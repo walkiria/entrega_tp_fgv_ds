{
 "cells": [
  {
   "cell_type": "code",
   "execution_count": 7,
   "metadata": {},
   "outputs": [],
   "source": [
    "## This is the final document for implementing our tag model."
   ]
  },
  {
   "cell_type": "code",
   "execution_count": 8,
   "metadata": {},
   "outputs": [],
   "source": [
    "## Libraries required.\n",
    "\n",
    "# Basics\n",
    "\n",
    "import pandas as pd\n",
    "import numpy as np\n",
    "import re\n",
    "\n",
    "#Visual\n",
    "import seaborn as sns\n",
    "import matplotlib.pyplot as plt\n",
    "\n",
    "#Sklearn\n",
    "from sklearn import tree as sk_tree\n",
    "from sklearn.ensemble import RandomForestRegressor\n",
    "from sklearn.metrics import confusion_matrix, classification_report\n",
    "from sklearn.metrics import median_absolute_error, mean_absolute_error, r2_score, max_error, explained_variance_score\n",
    "from sklearn.model_selection import train_test_split\n",
    "\n"
   ]
  },
  {
   "cell_type": "code",
   "execution_count": 10,
   "metadata": {},
   "outputs": [
    {
     "ename": "FileNotFoundError",
     "evalue": "[Errno 2] No such file or directory: 'C:/Users/Magalhaes/Desktop/Database FGVFlow - Página1.csv'",
     "output_type": "error",
     "traceback": [
      "\u001b[1;31m---------------------------------------------------------------------------\u001b[0m",
      "\u001b[1;31mFileNotFoundError\u001b[0m                         Traceback (most recent call last)",
      "\u001b[1;32mc:\\Users\\acdej\\Desktop\\entrega_tp_fgv_ds\\final_product.ipynb Célula: 3\u001b[0m in \u001b[0;36m<cell line: 3>\u001b[1;34m()\u001b[0m\n\u001b[0;32m      <a href='vscode-notebook-cell:/c%3A/Users/acdej/Desktop/entrega_tp_fgv_ds/final_product.ipynb#W2sZmlsZQ%3D%3D?line=0'>1</a>\u001b[0m \u001b[39m## Opening the dataset.\u001b[39;00m\n\u001b[1;32m----> <a href='vscode-notebook-cell:/c%3A/Users/acdej/Desktop/entrega_tp_fgv_ds/final_product.ipynb#W2sZmlsZQ%3D%3D?line=2'>3</a>\u001b[0m df \u001b[39m=\u001b[39m pd\u001b[39m.\u001b[39;49mread_csv(\u001b[39m\"\u001b[39;49m\u001b[39mC:/Users/Magalhaes/Desktop/Database FGVFlow - Página1.csv\u001b[39;49m\u001b[39m\"\u001b[39;49m)\n",
      "File \u001b[1;32m~\\AppData\\Local\\Packages\\PythonSoftwareFoundation.Python.3.9_qbz5n2kfra8p0\\LocalCache\\local-packages\\Python39\\site-packages\\pandas\\util\\_decorators.py:311\u001b[0m, in \u001b[0;36mdeprecate_nonkeyword_arguments.<locals>.decorate.<locals>.wrapper\u001b[1;34m(*args, **kwargs)\u001b[0m\n\u001b[0;32m    305\u001b[0m \u001b[39mif\u001b[39;00m \u001b[39mlen\u001b[39m(args) \u001b[39m>\u001b[39m num_allow_args:\n\u001b[0;32m    306\u001b[0m     warnings\u001b[39m.\u001b[39mwarn(\n\u001b[0;32m    307\u001b[0m         msg\u001b[39m.\u001b[39mformat(arguments\u001b[39m=\u001b[39marguments),\n\u001b[0;32m    308\u001b[0m         \u001b[39mFutureWarning\u001b[39;00m,\n\u001b[0;32m    309\u001b[0m         stacklevel\u001b[39m=\u001b[39mstacklevel,\n\u001b[0;32m    310\u001b[0m     )\n\u001b[1;32m--> 311\u001b[0m \u001b[39mreturn\u001b[39;00m func(\u001b[39m*\u001b[39margs, \u001b[39m*\u001b[39m\u001b[39m*\u001b[39mkwargs)\n",
      "File \u001b[1;32m~\\AppData\\Local\\Packages\\PythonSoftwareFoundation.Python.3.9_qbz5n2kfra8p0\\LocalCache\\local-packages\\Python39\\site-packages\\pandas\\io\\parsers\\readers.py:680\u001b[0m, in \u001b[0;36mread_csv\u001b[1;34m(filepath_or_buffer, sep, delimiter, header, names, index_col, usecols, squeeze, prefix, mangle_dupe_cols, dtype, engine, converters, true_values, false_values, skipinitialspace, skiprows, skipfooter, nrows, na_values, keep_default_na, na_filter, verbose, skip_blank_lines, parse_dates, infer_datetime_format, keep_date_col, date_parser, dayfirst, cache_dates, iterator, chunksize, compression, thousands, decimal, lineterminator, quotechar, quoting, doublequote, escapechar, comment, encoding, encoding_errors, dialect, error_bad_lines, warn_bad_lines, on_bad_lines, delim_whitespace, low_memory, memory_map, float_precision, storage_options)\u001b[0m\n\u001b[0;32m    665\u001b[0m kwds_defaults \u001b[39m=\u001b[39m _refine_defaults_read(\n\u001b[0;32m    666\u001b[0m     dialect,\n\u001b[0;32m    667\u001b[0m     delimiter,\n\u001b[1;32m   (...)\u001b[0m\n\u001b[0;32m    676\u001b[0m     defaults\u001b[39m=\u001b[39m{\u001b[39m\"\u001b[39m\u001b[39mdelimiter\u001b[39m\u001b[39m\"\u001b[39m: \u001b[39m\"\u001b[39m\u001b[39m,\u001b[39m\u001b[39m\"\u001b[39m},\n\u001b[0;32m    677\u001b[0m )\n\u001b[0;32m    678\u001b[0m kwds\u001b[39m.\u001b[39mupdate(kwds_defaults)\n\u001b[1;32m--> 680\u001b[0m \u001b[39mreturn\u001b[39;00m _read(filepath_or_buffer, kwds)\n",
      "File \u001b[1;32m~\\AppData\\Local\\Packages\\PythonSoftwareFoundation.Python.3.9_qbz5n2kfra8p0\\LocalCache\\local-packages\\Python39\\site-packages\\pandas\\io\\parsers\\readers.py:575\u001b[0m, in \u001b[0;36m_read\u001b[1;34m(filepath_or_buffer, kwds)\u001b[0m\n\u001b[0;32m    572\u001b[0m _validate_names(kwds\u001b[39m.\u001b[39mget(\u001b[39m\"\u001b[39m\u001b[39mnames\u001b[39m\u001b[39m\"\u001b[39m, \u001b[39mNone\u001b[39;00m))\n\u001b[0;32m    574\u001b[0m \u001b[39m# Create the parser.\u001b[39;00m\n\u001b[1;32m--> 575\u001b[0m parser \u001b[39m=\u001b[39m TextFileReader(filepath_or_buffer, \u001b[39m*\u001b[39m\u001b[39m*\u001b[39mkwds)\n\u001b[0;32m    577\u001b[0m \u001b[39mif\u001b[39;00m chunksize \u001b[39mor\u001b[39;00m iterator:\n\u001b[0;32m    578\u001b[0m     \u001b[39mreturn\u001b[39;00m parser\n",
      "File \u001b[1;32m~\\AppData\\Local\\Packages\\PythonSoftwareFoundation.Python.3.9_qbz5n2kfra8p0\\LocalCache\\local-packages\\Python39\\site-packages\\pandas\\io\\parsers\\readers.py:933\u001b[0m, in \u001b[0;36mTextFileReader.__init__\u001b[1;34m(self, f, engine, **kwds)\u001b[0m\n\u001b[0;32m    930\u001b[0m     \u001b[39mself\u001b[39m\u001b[39m.\u001b[39moptions[\u001b[39m\"\u001b[39m\u001b[39mhas_index_names\u001b[39m\u001b[39m\"\u001b[39m] \u001b[39m=\u001b[39m kwds[\u001b[39m\"\u001b[39m\u001b[39mhas_index_names\u001b[39m\u001b[39m\"\u001b[39m]\n\u001b[0;32m    932\u001b[0m \u001b[39mself\u001b[39m\u001b[39m.\u001b[39mhandles: IOHandles \u001b[39m|\u001b[39m \u001b[39mNone\u001b[39;00m \u001b[39m=\u001b[39m \u001b[39mNone\u001b[39;00m\n\u001b[1;32m--> 933\u001b[0m \u001b[39mself\u001b[39m\u001b[39m.\u001b[39m_engine \u001b[39m=\u001b[39m \u001b[39mself\u001b[39;49m\u001b[39m.\u001b[39;49m_make_engine(f, \u001b[39mself\u001b[39;49m\u001b[39m.\u001b[39;49mengine)\n",
      "File \u001b[1;32m~\\AppData\\Local\\Packages\\PythonSoftwareFoundation.Python.3.9_qbz5n2kfra8p0\\LocalCache\\local-packages\\Python39\\site-packages\\pandas\\io\\parsers\\readers.py:1217\u001b[0m, in \u001b[0;36mTextFileReader._make_engine\u001b[1;34m(self, f, engine)\u001b[0m\n\u001b[0;32m   1213\u001b[0m     mode \u001b[39m=\u001b[39m \u001b[39m\"\u001b[39m\u001b[39mrb\u001b[39m\u001b[39m\"\u001b[39m\n\u001b[0;32m   1214\u001b[0m \u001b[39m# error: No overload variant of \"get_handle\" matches argument types\u001b[39;00m\n\u001b[0;32m   1215\u001b[0m \u001b[39m# \"Union[str, PathLike[str], ReadCsvBuffer[bytes], ReadCsvBuffer[str]]\"\u001b[39;00m\n\u001b[0;32m   1216\u001b[0m \u001b[39m# , \"str\", \"bool\", \"Any\", \"Any\", \"Any\", \"Any\", \"Any\"\u001b[39;00m\n\u001b[1;32m-> 1217\u001b[0m \u001b[39mself\u001b[39m\u001b[39m.\u001b[39mhandles \u001b[39m=\u001b[39m get_handle(  \u001b[39m# type: ignore[call-overload]\u001b[39;49;00m\n\u001b[0;32m   1218\u001b[0m     f,\n\u001b[0;32m   1219\u001b[0m     mode,\n\u001b[0;32m   1220\u001b[0m     encoding\u001b[39m=\u001b[39;49m\u001b[39mself\u001b[39;49m\u001b[39m.\u001b[39;49moptions\u001b[39m.\u001b[39;49mget(\u001b[39m\"\u001b[39;49m\u001b[39mencoding\u001b[39;49m\u001b[39m\"\u001b[39;49m, \u001b[39mNone\u001b[39;49;00m),\n\u001b[0;32m   1221\u001b[0m     compression\u001b[39m=\u001b[39;49m\u001b[39mself\u001b[39;49m\u001b[39m.\u001b[39;49moptions\u001b[39m.\u001b[39;49mget(\u001b[39m\"\u001b[39;49m\u001b[39mcompression\u001b[39;49m\u001b[39m\"\u001b[39;49m, \u001b[39mNone\u001b[39;49;00m),\n\u001b[0;32m   1222\u001b[0m     memory_map\u001b[39m=\u001b[39;49m\u001b[39mself\u001b[39;49m\u001b[39m.\u001b[39;49moptions\u001b[39m.\u001b[39;49mget(\u001b[39m\"\u001b[39;49m\u001b[39mmemory_map\u001b[39;49m\u001b[39m\"\u001b[39;49m, \u001b[39mFalse\u001b[39;49;00m),\n\u001b[0;32m   1223\u001b[0m     is_text\u001b[39m=\u001b[39;49mis_text,\n\u001b[0;32m   1224\u001b[0m     errors\u001b[39m=\u001b[39;49m\u001b[39mself\u001b[39;49m\u001b[39m.\u001b[39;49moptions\u001b[39m.\u001b[39;49mget(\u001b[39m\"\u001b[39;49m\u001b[39mencoding_errors\u001b[39;49m\u001b[39m\"\u001b[39;49m, \u001b[39m\"\u001b[39;49m\u001b[39mstrict\u001b[39;49m\u001b[39m\"\u001b[39;49m),\n\u001b[0;32m   1225\u001b[0m     storage_options\u001b[39m=\u001b[39;49m\u001b[39mself\u001b[39;49m\u001b[39m.\u001b[39;49moptions\u001b[39m.\u001b[39;49mget(\u001b[39m\"\u001b[39;49m\u001b[39mstorage_options\u001b[39;49m\u001b[39m\"\u001b[39;49m, \u001b[39mNone\u001b[39;49;00m),\n\u001b[0;32m   1226\u001b[0m )\n\u001b[0;32m   1227\u001b[0m \u001b[39massert\u001b[39;00m \u001b[39mself\u001b[39m\u001b[39m.\u001b[39mhandles \u001b[39mis\u001b[39;00m \u001b[39mnot\u001b[39;00m \u001b[39mNone\u001b[39;00m\n\u001b[0;32m   1228\u001b[0m f \u001b[39m=\u001b[39m \u001b[39mself\u001b[39m\u001b[39m.\u001b[39mhandles\u001b[39m.\u001b[39mhandle\n",
      "File \u001b[1;32m~\\AppData\\Local\\Packages\\PythonSoftwareFoundation.Python.3.9_qbz5n2kfra8p0\\LocalCache\\local-packages\\Python39\\site-packages\\pandas\\io\\common.py:789\u001b[0m, in \u001b[0;36mget_handle\u001b[1;34m(path_or_buf, mode, encoding, compression, memory_map, is_text, errors, storage_options)\u001b[0m\n\u001b[0;32m    784\u001b[0m \u001b[39melif\u001b[39;00m \u001b[39misinstance\u001b[39m(handle, \u001b[39mstr\u001b[39m):\n\u001b[0;32m    785\u001b[0m     \u001b[39m# Check whether the filename is to be opened in binary mode.\u001b[39;00m\n\u001b[0;32m    786\u001b[0m     \u001b[39m# Binary mode does not support 'encoding' and 'newline'.\u001b[39;00m\n\u001b[0;32m    787\u001b[0m     \u001b[39mif\u001b[39;00m ioargs\u001b[39m.\u001b[39mencoding \u001b[39mand\u001b[39;00m \u001b[39m\"\u001b[39m\u001b[39mb\u001b[39m\u001b[39m\"\u001b[39m \u001b[39mnot\u001b[39;00m \u001b[39min\u001b[39;00m ioargs\u001b[39m.\u001b[39mmode:\n\u001b[0;32m    788\u001b[0m         \u001b[39m# Encoding\u001b[39;00m\n\u001b[1;32m--> 789\u001b[0m         handle \u001b[39m=\u001b[39m \u001b[39mopen\u001b[39;49m(\n\u001b[0;32m    790\u001b[0m             handle,\n\u001b[0;32m    791\u001b[0m             ioargs\u001b[39m.\u001b[39;49mmode,\n\u001b[0;32m    792\u001b[0m             encoding\u001b[39m=\u001b[39;49mioargs\u001b[39m.\u001b[39;49mencoding,\n\u001b[0;32m    793\u001b[0m             errors\u001b[39m=\u001b[39;49merrors,\n\u001b[0;32m    794\u001b[0m             newline\u001b[39m=\u001b[39;49m\u001b[39m\"\u001b[39;49m\u001b[39m\"\u001b[39;49m,\n\u001b[0;32m    795\u001b[0m         )\n\u001b[0;32m    796\u001b[0m     \u001b[39melse\u001b[39;00m:\n\u001b[0;32m    797\u001b[0m         \u001b[39m# Binary mode\u001b[39;00m\n\u001b[0;32m    798\u001b[0m         handle \u001b[39m=\u001b[39m \u001b[39mopen\u001b[39m(handle, ioargs\u001b[39m.\u001b[39mmode)\n",
      "\u001b[1;31mFileNotFoundError\u001b[0m: [Errno 2] No such file or directory: 'C:/Users/Magalhaes/Desktop/Database FGVFlow - Página1.csv'"
     ]
    }
   ],
   "source": [
    "## Opening the dataset.\n",
    "\n",
    "df = pd.read_csv(\"C:/Users/Magalhaes/Desktop/Database FGVFlow - Página1.csv\")"
   ]
  },
  {
   "cell_type": "markdown",
   "metadata": {},
   "source": [
    "## Data exploration"
   ]
  },
  {
   "cell_type": "code",
   "execution_count": null,
   "metadata": {},
   "outputs": [
    {
     "name": "stdout",
     "output_type": "stream",
     "text": [
      "<class 'pandas.core.frame.DataFrame'>\n",
      "RangeIndex: 110 entries, 0 to 109\n",
      "Data columns (total 9 columns):\n",
      " #   Column          Non-Null Count  Dtype \n",
      "---  ------          --------------  ----- \n",
      " 0   Q User          110 non-null    int64 \n",
      " 1   Q ID            110 non-null    int64 \n",
      " 2   Title           110 non-null    object\n",
      " 3   Questions Body  110 non-null    object\n",
      " 4   Q Score         110 non-null    int64 \n",
      " 5   Answer user     110 non-null    int64 \n",
      " 6   Answers Body    110 non-null    object\n",
      " 7   A Score         110 non-null    int64 \n",
      " 8   Tags            110 non-null    object\n",
      "dtypes: int64(5), object(4)\n",
      "memory usage: 7.9+ KB\n"
     ]
    }
   ],
   "source": [
    "df.head()\n",
    "df.info()\n",
    "\n",
    "## Dataframe working 100%"
   ]
  },
  {
   "cell_type": "code",
   "execution_count": null,
   "metadata": {},
   "outputs": [
    {
     "data": {
      "text/html": [
       "<div>\n",
       "<style scoped>\n",
       "    .dataframe tbody tr th:only-of-type {\n",
       "        vertical-align: middle;\n",
       "    }\n",
       "\n",
       "    .dataframe tbody tr th {\n",
       "        vertical-align: top;\n",
       "    }\n",
       "\n",
       "    .dataframe thead th {\n",
       "        text-align: right;\n",
       "    }\n",
       "</style>\n",
       "<table border=\"1\" class=\"dataframe\">\n",
       "  <thead>\n",
       "    <tr style=\"text-align: right;\">\n",
       "      <th></th>\n",
       "      <th>Q User</th>\n",
       "      <th>Q ID</th>\n",
       "      <th>Q Score</th>\n",
       "      <th>Answer user</th>\n",
       "      <th>A Score</th>\n",
       "    </tr>\n",
       "  </thead>\n",
       "  <tbody>\n",
       "    <tr>\n",
       "      <th>count</th>\n",
       "      <td>110.000000</td>\n",
       "      <td>110.000000</td>\n",
       "      <td>110.000000</td>\n",
       "      <td>110.000000</td>\n",
       "      <td>110.000000</td>\n",
       "    </tr>\n",
       "    <tr>\n",
       "      <th>mean</th>\n",
       "      <td>348711.427273</td>\n",
       "      <td>55.500000</td>\n",
       "      <td>24.436364</td>\n",
       "      <td>353472.027273</td>\n",
       "      <td>12.336364</td>\n",
       "    </tr>\n",
       "    <tr>\n",
       "      <th>std</th>\n",
       "      <td>30519.566053</td>\n",
       "      <td>31.898276</td>\n",
       "      <td>61.100238</td>\n",
       "      <td>28119.239577</td>\n",
       "      <td>32.752695</td>\n",
       "    </tr>\n",
       "    <tr>\n",
       "      <th>min</th>\n",
       "      <td>300751.000000</td>\n",
       "      <td>1.000000</td>\n",
       "      <td>1.000000</td>\n",
       "      <td>301291.000000</td>\n",
       "      <td>0.000000</td>\n",
       "    </tr>\n",
       "    <tr>\n",
       "      <th>25%</th>\n",
       "      <td>324510.000000</td>\n",
       "      <td>28.250000</td>\n",
       "      <td>4.000000</td>\n",
       "      <td>332464.250000</td>\n",
       "      <td>1.000000</td>\n",
       "    </tr>\n",
       "    <tr>\n",
       "      <th>50%</th>\n",
       "      <td>347410.500000</td>\n",
       "      <td>55.500000</td>\n",
       "      <td>6.000000</td>\n",
       "      <td>350845.500000</td>\n",
       "      <td>2.000000</td>\n",
       "    </tr>\n",
       "    <tr>\n",
       "      <th>75%</th>\n",
       "      <td>372838.500000</td>\n",
       "      <td>82.750000</td>\n",
       "      <td>22.000000</td>\n",
       "      <td>379885.500000</td>\n",
       "      <td>10.000000</td>\n",
       "    </tr>\n",
       "    <tr>\n",
       "      <th>max</th>\n",
       "      <td>398940.000000</td>\n",
       "      <td>110.000000</td>\n",
       "      <td>545.000000</td>\n",
       "      <td>399017.000000</td>\n",
       "      <td>300.000000</td>\n",
       "    </tr>\n",
       "  </tbody>\n",
       "</table>\n",
       "</div>"
      ],
      "text/plain": [
       "              Q User        Q ID     Q Score    Answer user     A Score\n",
       "count     110.000000  110.000000  110.000000     110.000000  110.000000\n",
       "mean   348711.427273   55.500000   24.436364  353472.027273   12.336364\n",
       "std     30519.566053   31.898276   61.100238   28119.239577   32.752695\n",
       "min    300751.000000    1.000000    1.000000  301291.000000    0.000000\n",
       "25%    324510.000000   28.250000    4.000000  332464.250000    1.000000\n",
       "50%    347410.500000   55.500000    6.000000  350845.500000    2.000000\n",
       "75%    372838.500000   82.750000   22.000000  379885.500000   10.000000\n",
       "max    398940.000000  110.000000  545.000000  399017.000000  300.000000"
      ]
     },
     "execution_count": 15,
     "metadata": {},
     "output_type": "execute_result"
    }
   ],
   "source": [
    "df.describe()"
   ]
  },
  {
   "cell_type": "code",
   "execution_count": null,
   "metadata": {},
   "outputs": [
    {
     "data": {
      "text/html": [
       "<div>\n",
       "<style scoped>\n",
       "    .dataframe tbody tr th:only-of-type {\n",
       "        vertical-align: middle;\n",
       "    }\n",
       "\n",
       "    .dataframe tbody tr th {\n",
       "        vertical-align: top;\n",
       "    }\n",
       "\n",
       "    .dataframe thead th {\n",
       "        text-align: right;\n",
       "    }\n",
       "</style>\n",
       "<table border=\"1\" class=\"dataframe\">\n",
       "  <thead>\n",
       "    <tr style=\"text-align: right;\">\n",
       "      <th></th>\n",
       "      <th>Title</th>\n",
       "      <th>Questions Body</th>\n",
       "      <th>Q Score</th>\n",
       "      <th>Answers Body</th>\n",
       "      <th>A Score</th>\n",
       "      <th>Tags</th>\n",
       "    </tr>\n",
       "  </thead>\n",
       "  <tbody>\n",
       "    <tr>\n",
       "      <th>0</th>\n",
       "      <td>What is anarchy?</td>\n",
       "      <td>I did not really got what anarchy is. Does som...</td>\n",
       "      <td>5</td>\n",
       "      <td>Anarchy is, firstly, a structure in which a sy...</td>\n",
       "      <td>2</td>\n",
       "      <td>International History; Anarchy</td>\n",
       "    </tr>\n",
       "    <tr>\n",
       "      <th>1</th>\n",
       "      <td>What is the difference between international a...</td>\n",
       "      <td>Answering the list 3 of IR Theory, I couldn't ...</td>\n",
       "      <td>4</td>\n",
       "      <td>Yes, you are</td>\n",
       "      <td>1</td>\n",
       "      <td>IR Theory</td>\n",
       "    </tr>\n",
       "    <tr>\n",
       "      <th>2</th>\n",
       "      <td>SRA number</td>\n",
       "      <td>What is the SRA phone number?</td>\n",
       "      <td>3</td>\n",
       "      <td>It's (11) 929292-92929</td>\n",
       "      <td>17</td>\n",
       "      <td>SRA</td>\n",
       "    </tr>\n",
       "    <tr>\n",
       "      <th>3</th>\n",
       "      <td>Get ready for microeconomics exam</td>\n",
       "      <td>I am having a microeconomics exam next week an...</td>\n",
       "      <td>6</td>\n",
       "      <td>First of all, review your mock exams and your ...</td>\n",
       "      <td>6</td>\n",
       "      <td>Microeconomics</td>\n",
       "    </tr>\n",
       "    <tr>\n",
       "      <th>4</th>\n",
       "      <td>Getting in touch with Oliver Stuenkel</td>\n",
       "      <td>Hi, folks! I must talk w/ Oliver asap, but I c...</td>\n",
       "      <td>1</td>\n",
       "      <td>You can access the list of OH links in the int...</td>\n",
       "      <td>5</td>\n",
       "      <td>Contact</td>\n",
       "    </tr>\n",
       "    <tr>\n",
       "      <th>...</th>\n",
       "      <td>...</td>\n",
       "      <td>...</td>\n",
       "      <td>...</td>\n",
       "      <td>...</td>\n",
       "      <td>...</td>\n",
       "      <td>...</td>\n",
       "    </tr>\n",
       "    <tr>\n",
       "      <th>105</th>\n",
       "      <td>Nice movies and IR</td>\n",
       "      <td>Advise me on some nice IR related movies, plea...</td>\n",
       "      <td>19</td>\n",
       "      <td>There is a nice show called Bortført.</td>\n",
       "      <td>100</td>\n",
       "      <td>Movie; IR</td>\n",
       "    </tr>\n",
       "    <tr>\n",
       "      <th>106</th>\n",
       "      <td>UiO Exchange</td>\n",
       "      <td>Hello, guys! I am going to the University of O...</td>\n",
       "      <td>23</td>\n",
       "      <td>Sure! You should look if they are offering a c...</td>\n",
       "      <td>10</td>\n",
       "      <td>Exchange program</td>\n",
       "    </tr>\n",
       "    <tr>\n",
       "      <th>107</th>\n",
       "      <td>All syllabus</td>\n",
       "      <td>Does anyone know where I can find the syllabi ...</td>\n",
       "      <td>24</td>\n",
       "      <td>You can find it in intranet. All syllabi — for...</td>\n",
       "      <td>12</td>\n",
       "      <td>Syllabus</td>\n",
       "    </tr>\n",
       "    <tr>\n",
       "      <th>108</th>\n",
       "      <td>Predictive Analytics</td>\n",
       "      <td>Is taking the predictive analytics elective co...</td>\n",
       "      <td>24</td>\n",
       "      <td>It is very hard, but totally worth. I learned ...</td>\n",
       "      <td>12</td>\n",
       "      <td>Predictive Analytics</td>\n",
       "    </tr>\n",
       "    <tr>\n",
       "      <th>109</th>\n",
       "      <td>International norms - Localization</td>\n",
       "      <td>Guys, what is the meaning of norm localization?</td>\n",
       "      <td>61</td>\n",
       "      <td>According to Acharya, who invented the concept...</td>\n",
       "      <td>33</td>\n",
       "      <td>IR Theory</td>\n",
       "    </tr>\n",
       "  </tbody>\n",
       "</table>\n",
       "<p>110 rows × 6 columns</p>\n",
       "</div>"
      ],
      "text/plain": [
       "                                                 Title  \\\n",
       "0                                     What is anarchy?   \n",
       "1    What is the difference between international a...   \n",
       "2                                           SRA number   \n",
       "3                    Get ready for microeconomics exam   \n",
       "4                Getting in touch with Oliver Stuenkel   \n",
       "..                                                 ...   \n",
       "105                                 Nice movies and IR   \n",
       "106                                      UiO Exchange    \n",
       "107                                      All syllabus    \n",
       "108                              Predictive Analytics    \n",
       "109                 International norms - Localization   \n",
       "\n",
       "                                        Questions Body  Q Score  \\\n",
       "0    I did not really got what anarchy is. Does som...        5   \n",
       "1    Answering the list 3 of IR Theory, I couldn't ...        4   \n",
       "2                        What is the SRA phone number?        3   \n",
       "3    I am having a microeconomics exam next week an...        6   \n",
       "4    Hi, folks! I must talk w/ Oliver asap, but I c...        1   \n",
       "..                                                 ...      ...   \n",
       "105  Advise me on some nice IR related movies, plea...       19   \n",
       "106  Hello, guys! I am going to the University of O...       23   \n",
       "107  Does anyone know where I can find the syllabi ...       24   \n",
       "108  Is taking the predictive analytics elective co...       24   \n",
       "109    Guys, what is the meaning of norm localization?       61   \n",
       "\n",
       "                                          Answers Body  A Score  \\\n",
       "0    Anarchy is, firstly, a structure in which a sy...        2   \n",
       "1                                         Yes, you are        1   \n",
       "2                               It's (11) 929292-92929       17   \n",
       "3    First of all, review your mock exams and your ...        6   \n",
       "4    You can access the list of OH links in the int...        5   \n",
       "..                                                 ...      ...   \n",
       "105              There is a nice show called Bortført.      100   \n",
       "106  Sure! You should look if they are offering a c...       10   \n",
       "107  You can find it in intranet. All syllabi — for...       12   \n",
       "108  It is very hard, but totally worth. I learned ...       12   \n",
       "109  According to Acharya, who invented the concept...       33   \n",
       "\n",
       "                               Tags  \n",
       "0    International History; Anarchy  \n",
       "1                         IR Theory  \n",
       "2                               SRA  \n",
       "3                    Microeconomics  \n",
       "4                           Contact  \n",
       "..                              ...  \n",
       "105                       Movie; IR  \n",
       "106                Exchange program  \n",
       "107                        Syllabus  \n",
       "108            Predictive Analytics  \n",
       "109                       IR Theory  \n",
       "\n",
       "[110 rows x 6 columns]"
      ]
     },
     "execution_count": 16,
     "metadata": {},
     "output_type": "execute_result"
    }
   ],
   "source": [
    "# Lets first clean the base so we can select the variables we need for the model.\n",
    "\n",
    "df.drop({\"Q User\", \"Q ID\", \"Answer user\"}, axis=1, inplace=True)\n",
    "df"
   ]
  },
  {
   "cell_type": "code",
   "execution_count": null,
   "metadata": {},
   "outputs": [
    {
     "data": {
      "text/plain": [
       "0"
      ]
     },
     "execution_count": 17,
     "metadata": {},
     "output_type": "execute_result"
    }
   ],
   "source": [
    "## Lets check if there are duplicate values\n",
    "\n",
    "df.duplicated().sum()\n",
    "\n",
    "## There are no duplicated values."
   ]
  },
  {
   "cell_type": "code",
   "execution_count": null,
   "metadata": {},
   "outputs": [
    {
     "data": {
      "text/html": [
       "<div>\n",
       "<style scoped>\n",
       "    .dataframe tbody tr th:only-of-type {\n",
       "        vertical-align: middle;\n",
       "    }\n",
       "\n",
       "    .dataframe tbody tr th {\n",
       "        vertical-align: top;\n",
       "    }\n",
       "\n",
       "    .dataframe thead th {\n",
       "        text-align: right;\n",
       "    }\n",
       "</style>\n",
       "<table border=\"1\" class=\"dataframe\">\n",
       "  <thead>\n",
       "    <tr style=\"text-align: right;\">\n",
       "      <th></th>\n",
       "      <th>Total</th>\n",
       "      <th>Percent</th>\n",
       "    </tr>\n",
       "  </thead>\n",
       "  <tbody>\n",
       "    <tr>\n",
       "      <th>Title</th>\n",
       "      <td>0</td>\n",
       "      <td>0.0</td>\n",
       "    </tr>\n",
       "    <tr>\n",
       "      <th>Questions Body</th>\n",
       "      <td>0</td>\n",
       "      <td>0.0</td>\n",
       "    </tr>\n",
       "    <tr>\n",
       "      <th>Q Score</th>\n",
       "      <td>0</td>\n",
       "      <td>0.0</td>\n",
       "    </tr>\n",
       "    <tr>\n",
       "      <th>Answers Body</th>\n",
       "      <td>0</td>\n",
       "      <td>0.0</td>\n",
       "    </tr>\n",
       "    <tr>\n",
       "      <th>A Score</th>\n",
       "      <td>0</td>\n",
       "      <td>0.0</td>\n",
       "    </tr>\n",
       "    <tr>\n",
       "      <th>Tags</th>\n",
       "      <td>0</td>\n",
       "      <td>0.0</td>\n",
       "    </tr>\n",
       "  </tbody>\n",
       "</table>\n",
       "</div>"
      ],
      "text/plain": [
       "                Total  Percent\n",
       "Title               0      0.0\n",
       "Questions Body      0      0.0\n",
       "Q Score             0      0.0\n",
       "Answers Body        0      0.0\n",
       "A Score             0      0.0\n",
       "Tags                0      0.0"
      ]
     },
     "execution_count": 18,
     "metadata": {},
     "output_type": "execute_result"
    }
   ],
   "source": [
    "## What about NAs?\n",
    "\n",
    "total = df.isnull().sum().sort_values(ascending=False)\n",
    "\n",
    "percent = (df.isnull().sum()/df.isnull().count()).sort_values(ascending=False)\n",
    "\n",
    "missing_data = pd.concat(\n",
    "     [total, percent],\n",
    "      axis=1,\n",
    "      keys=['Total', 'Percent'])\n",
    "      \n",
    "missing_data.head(20)\n",
    "\n",
    "## There are no missing data in the dataframe."
   ]
  },
  {
   "cell_type": "code",
   "execution_count": null,
   "metadata": {},
   "outputs": [
    {
     "data": {
      "text/html": [
       "<div>\n",
       "<style scoped>\n",
       "    .dataframe tbody tr th:only-of-type {\n",
       "        vertical-align: middle;\n",
       "    }\n",
       "\n",
       "    .dataframe tbody tr th {\n",
       "        vertical-align: top;\n",
       "    }\n",
       "\n",
       "    .dataframe thead th {\n",
       "        text-align: right;\n",
       "    }\n",
       "</style>\n",
       "<table border=\"1\" class=\"dataframe\">\n",
       "  <thead>\n",
       "    <tr style=\"text-align: right;\">\n",
       "      <th></th>\n",
       "      <th>Q Score</th>\n",
       "      <th>A Score</th>\n",
       "    </tr>\n",
       "  </thead>\n",
       "  <tbody>\n",
       "    <tr>\n",
       "      <th>Q Score</th>\n",
       "      <td>1.000000</td>\n",
       "      <td>0.427872</td>\n",
       "    </tr>\n",
       "    <tr>\n",
       "      <th>A Score</th>\n",
       "      <td>0.427872</td>\n",
       "      <td>1.000000</td>\n",
       "    </tr>\n",
       "  </tbody>\n",
       "</table>\n",
       "</div>"
      ],
      "text/plain": [
       "          Q Score   A Score\n",
       "Q Score  1.000000  0.427872\n",
       "A Score  0.427872  1.000000"
      ]
     },
     "execution_count": 21,
     "metadata": {},
     "output_type": "execute_result"
    }
   ],
   "source": [
    "## Lets check if there is any correlation between both question and answer score.\n",
    "\n",
    "corr_matrix = df.corr().sort_values(\n",
    "    by = \"Q Score\",  ascending=False, key = abs)\n",
    "corr_matrix\n",
    "\n",
    "## There is a correlation but is not that significant."
   ]
  },
  {
   "cell_type": "code",
   "execution_count": null,
   "metadata": {},
   "outputs": [
    {
     "data": {
      "text/plain": [
       "<seaborn.axisgrid.FacetGrid at 0x23f31b52740>"
      ]
     },
     "execution_count": 23,
     "metadata": {},
     "output_type": "execute_result"
    },
    {
     "data": {
      "image/png": "[encoded data removed]",
      "text/plain": [
       "<Figure size 360x360 with 1 Axes>"
      ]
     },
     "metadata": {
      "needs_background": "light"
     },
     "output_type": "display_data"
    }
   ],
   "source": [
    "## Lets see how the distribution of scores goes\n",
    "\n",
    "sns.displot(df, x=\"Q Score\", kind=\"kde\")"
   ]
  },
  {
   "cell_type": "code",
   "execution_count": null,
   "metadata": {},
   "outputs": [
    {
     "data": {
      "text/plain": [
       "<seaborn.axisgrid.FacetGrid at 0x23f3b64ba90>"
      ]
     },
     "execution_count": 24,
     "metadata": {},
     "output_type": "execute_result"
    },
    {
     "data": {
      "image/png": "[encoded data removed]",
      "text/plain": [
       "<Figure size 500x500 with 1 Axes>"
      ]
     },
     "metadata": {},
     "output_type": "display_data"
    }
   ],
   "source": [
    "# Now for answer scores\n",
    "\n",
    "sns.displot(df, x=\"A Score\", kind=\"kde\")"
   ]
  },
  {
   "cell_type": "code",
   "execution_count": null,
   "metadata": {},
   "outputs": [
    {
     "data": {
      "text/plain": [
       "Tags\n",
       "IR Theory                          10\n",
       "Exchange program                    9\n",
       "General                             8\n",
       "International Development           7\n",
       "SRA                                 6\n",
       "Brazilian Foreign Policy            5\n",
       "International Political Economy     5\n",
       "Data science                        4\n",
       "Grades                              4\n",
       "Game Theory                         3\n",
       "Calendar                            3\n",
       "International Law; fairness         3\n",
       "Thesis                              2\n",
       "Macroeconomy                        2\n",
       "Internship                          2\n",
       "International Law                   2\n",
       "Writing                             2\n",
       "Career                              2\n",
       "Contact                             2\n",
       "Classes policy                      2\n",
       "Name: Tags, dtype: int64"
      ]
     },
     "execution_count": 27,
     "metadata": {},
     "output_type": "execute_result"
    }
   ],
   "source": [
    "## Now lets see how tags work in this dataframe.\n",
    "\n",
    "tags = df.groupby(['Tags'], sort=True)['Tags'].count()\n",
    "tags.sort_values(ascending=False).head(20)\n",
    "\n",
    "## As expected, tags related to International Relations are those most common in the dataframe."
   ]
  },
  {
   "cell_type": "markdown",
   "metadata": {},
   "source": [
    "## Preparation of the model"
   ]
  },
  {
   "cell_type": "markdown",
   "metadata": {},
   "source": [
    "Cleaning the Questions Body"
   ]
  },
  {
   "cell_type": "code",
   "execution_count": 23,
   "metadata": {},
   "outputs": [
    {
     "name": "stderr",
     "output_type": "stream",
     "text": [
      "[nltk_data] Downloading package stopwords to\n",
      "[nltk_data]     C:\\Users\\acdej\\AppData\\Roaming\\nltk_data...\n",
      "[nltk_data]   Unzipping corpora\\stopwords.zip.\n"
     ]
    },
    {
     "data": {
      "text/plain": [
       "True"
      ]
     },
     "execution_count": 23,
     "metadata": {},
     "output_type": "execute_result"
    }
   ],
   "source": [
    "stopwords = nltk.corpus.stopwords.words('english')\n",
    "lemmatizer = WordNetLemmatizer()\n",
    "nltk.download('stopwords')"
   ]
  },
  {
   "cell_type": "code",
   "execution_count": 24,
   "metadata": {},
   "outputs": [
    {
     "name": "stdout",
     "output_type": "stream",
     "text": [
      "Requirement already satisfied: nltk in c:\\users\\acdej\\appdata\\local\\packages\\pythonsoftwarefoundation.python.3.9_qbz5n2kfra8p0\\localcache\\local-packages\\python39\\site-packages (3.7)\n",
      "Requirement already satisfied: regex>=2021.8.3 in c:\\users\\acdej\\appdata\\local\\packages\\pythonsoftwarefoundation.python.3.9_qbz5n2kfra8p0\\localcache\\local-packages\\python39\\site-packages (from nltk) (2022.9.13)\n",
      "Requirement already satisfied: joblib in c:\\users\\acdej\\appdata\\local\\packages\\pythonsoftwarefoundation.python.3.9_qbz5n2kfra8p0\\localcache\\local-packages\\python39\\site-packages (from nltk) (1.1.0)\n",
      "Requirement already satisfied: tqdm in c:\\users\\acdej\\appdata\\local\\packages\\pythonsoftwarefoundation.python.3.9_qbz5n2kfra8p0\\localcache\\local-packages\\python39\\site-packages (from nltk) (4.64.1)\n",
      "Requirement already satisfied: click in c:\\users\\acdej\\appdata\\local\\packages\\pythonsoftwarefoundation.python.3.9_qbz5n2kfra8p0\\localcache\\local-packages\\python39\\site-packages (from nltk) (8.1.3)\n",
      "Requirement already satisfied: colorama in c:\\users\\acdej\\appdata\\local\\packages\\pythonsoftwarefoundation.python.3.9_qbz5n2kfra8p0\\localcache\\local-packages\\python39\\site-packages (from click->nltk) (0.4.4)\n"
     ]
    },
    {
     "name": "stderr",
     "output_type": "stream",
     "text": [
      "WARNING: You are using pip version 22.0.4; however, version 22.3.1 is available.\n",
      "You should consider upgrading via the 'C:\\Users\\acdej\\AppData\\Local\\Microsoft\\WindowsApps\\PythonSoftwareFoundation.Python.3.9_qbz5n2kfra8p0\\python.exe -m pip install --upgrade pip' command.\n"
     ]
    }
   ],
   "source": [
    "import re\n",
    "from bs4 import BeautifulSoup\n",
    "\n",
    "! pip install nltk\n",
    "import nltk\n",
    "from nltk.tokenize import ToktokTokenizer\n",
    "from nltk.stem.wordnet import WordNetLemmatizer\n",
    "from nltk.corpus import stopwords\n",
    "from string import punctuation"
   ]
  },
  {
   "cell_type": "code",
   "execution_count": null,
   "metadata": {},
   "outputs": [],
   "source": []
  },
  {
   "cell_type": "code",
   "execution_count": 25,
   "metadata": {},
   "outputs": [],
   "source": [
    "## Opening the dataset.\n",
    "\n",
    "df = pd.read_csv(\"C:/Users/acdej/Documents/1 Faculdade/8° Semestre/Ambiente Negócios/Database FGVFlow - Página1.csv\")"
   ]
  },
  {
   "cell_type": "code",
   "execution_count": 26,
   "metadata": {},
   "outputs": [
    {
     "data": {
      "text/html": [
       "<div>\n",
       "<style scoped>\n",
       "    .dataframe tbody tr th:only-of-type {\n",
       "        vertical-align: middle;\n",
       "    }\n",
       "\n",
       "    .dataframe tbody tr th {\n",
       "        vertical-align: top;\n",
       "    }\n",
       "\n",
       "    .dataframe thead th {\n",
       "        text-align: right;\n",
       "    }\n",
       "</style>\n",
       "<table border=\"1\" class=\"dataframe\">\n",
       "  <thead>\n",
       "    <tr style=\"text-align: right;\">\n",
       "      <th></th>\n",
       "      <th>Title</th>\n",
       "      <th>Questions Body</th>\n",
       "      <th>Q Score</th>\n",
       "      <th>Answers Body</th>\n",
       "      <th>A Score</th>\n",
       "      <th>Tags</th>\n",
       "    </tr>\n",
       "  </thead>\n",
       "  <tbody>\n",
       "    <tr>\n",
       "      <th>0</th>\n",
       "      <td>What is anarchy?</td>\n",
       "      <td>I did not really got what anarchy is. Does som...</td>\n",
       "      <td>5</td>\n",
       "      <td>Anarchy is, firstly, a structure in which a sy...</td>\n",
       "      <td>2</td>\n",
       "      <td>International History; Anarchy</td>\n",
       "    </tr>\n",
       "    <tr>\n",
       "      <th>1</th>\n",
       "      <td>What is the difference between international a...</td>\n",
       "      <td>Answering the list 3 of IR Theory, I couldn't ...</td>\n",
       "      <td>4</td>\n",
       "      <td>Yes, you are</td>\n",
       "      <td>1</td>\n",
       "      <td>IR Theory</td>\n",
       "    </tr>\n",
       "    <tr>\n",
       "      <th>2</th>\n",
       "      <td>SRA number</td>\n",
       "      <td>What is the SRA phone number?</td>\n",
       "      <td>3</td>\n",
       "      <td>It's (11) 929292-92929</td>\n",
       "      <td>17</td>\n",
       "      <td>SRA</td>\n",
       "    </tr>\n",
       "    <tr>\n",
       "      <th>3</th>\n",
       "      <td>Get ready for microeconomics exam</td>\n",
       "      <td>I am having a microeconomics exam next week an...</td>\n",
       "      <td>6</td>\n",
       "      <td>First of all, review your mock exams and your ...</td>\n",
       "      <td>6</td>\n",
       "      <td>Microeconomics</td>\n",
       "    </tr>\n",
       "    <tr>\n",
       "      <th>4</th>\n",
       "      <td>Getting in touch with Oliver Stuenkel</td>\n",
       "      <td>Hi, folks! I must talk w/ Oliver asap, but I c...</td>\n",
       "      <td>1</td>\n",
       "      <td>You can access the list of OH links in the int...</td>\n",
       "      <td>5</td>\n",
       "      <td>Contact</td>\n",
       "    </tr>\n",
       "    <tr>\n",
       "      <th>...</th>\n",
       "      <td>...</td>\n",
       "      <td>...</td>\n",
       "      <td>...</td>\n",
       "      <td>...</td>\n",
       "      <td>...</td>\n",
       "      <td>...</td>\n",
       "    </tr>\n",
       "    <tr>\n",
       "      <th>105</th>\n",
       "      <td>Nice movies and IR</td>\n",
       "      <td>Advise me on some nice IR related movies, plea...</td>\n",
       "      <td>19</td>\n",
       "      <td>There is a nice show called Bortført.</td>\n",
       "      <td>100</td>\n",
       "      <td>Movie; IR</td>\n",
       "    </tr>\n",
       "    <tr>\n",
       "      <th>106</th>\n",
       "      <td>UiO Exchange</td>\n",
       "      <td>Hello, guys! I am going to the University of O...</td>\n",
       "      <td>23</td>\n",
       "      <td>Sure! You should look if they are offering a c...</td>\n",
       "      <td>10</td>\n",
       "      <td>Exchange program</td>\n",
       "    </tr>\n",
       "    <tr>\n",
       "      <th>107</th>\n",
       "      <td>All syllabus</td>\n",
       "      <td>Does anyone know where I can find the syllabi ...</td>\n",
       "      <td>24</td>\n",
       "      <td>You can find it in intranet. All syllabi — for...</td>\n",
       "      <td>12</td>\n",
       "      <td>Syllabus</td>\n",
       "    </tr>\n",
       "    <tr>\n",
       "      <th>108</th>\n",
       "      <td>Predictive Analytics</td>\n",
       "      <td>Is taking the predictive analytics elective co...</td>\n",
       "      <td>24</td>\n",
       "      <td>It is very hard, but totally worth. I learned ...</td>\n",
       "      <td>12</td>\n",
       "      <td>Predictive Analytics</td>\n",
       "    </tr>\n",
       "    <tr>\n",
       "      <th>109</th>\n",
       "      <td>International norms - Localization</td>\n",
       "      <td>Guys, what is the meaning of norm localization?</td>\n",
       "      <td>61</td>\n",
       "      <td>According to Acharya, who invented the concept...</td>\n",
       "      <td>33</td>\n",
       "      <td>IR Theory</td>\n",
       "    </tr>\n",
       "  </tbody>\n",
       "</table>\n",
       "<p>110 rows × 6 columns</p>\n",
       "</div>"
      ],
      "text/plain": [
       "                                                 Title  \\\n",
       "0                                     What is anarchy?   \n",
       "1    What is the difference between international a...   \n",
       "2                                           SRA number   \n",
       "3                    Get ready for microeconomics exam   \n",
       "4                Getting in touch with Oliver Stuenkel   \n",
       "..                                                 ...   \n",
       "105                                 Nice movies and IR   \n",
       "106                                      UiO Exchange    \n",
       "107                                      All syllabus    \n",
       "108                              Predictive Analytics    \n",
       "109                 International norms - Localization   \n",
       "\n",
       "                                        Questions Body  Q Score  \\\n",
       "0    I did not really got what anarchy is. Does som...        5   \n",
       "1    Answering the list 3 of IR Theory, I couldn't ...        4   \n",
       "2                        What is the SRA phone number?        3   \n",
       "3    I am having a microeconomics exam next week an...        6   \n",
       "4    Hi, folks! I must talk w/ Oliver asap, but I c...        1   \n",
       "..                                                 ...      ...   \n",
       "105  Advise me on some nice IR related movies, plea...       19   \n",
       "106  Hello, guys! I am going to the University of O...       23   \n",
       "107  Does anyone know where I can find the syllabi ...       24   \n",
       "108  Is taking the predictive analytics elective co...       24   \n",
       "109    Guys, what is the meaning of norm localization?       61   \n",
       "\n",
       "                                          Answers Body  A Score  \\\n",
       "0    Anarchy is, firstly, a structure in which a sy...        2   \n",
       "1                                         Yes, you are        1   \n",
       "2                               It's (11) 929292-92929       17   \n",
       "3    First of all, review your mock exams and your ...        6   \n",
       "4    You can access the list of OH links in the int...        5   \n",
       "..                                                 ...      ...   \n",
       "105              There is a nice show called Bortført.      100   \n",
       "106  Sure! You should look if they are offering a c...       10   \n",
       "107  You can find it in intranet. All syllabi — for...       12   \n",
       "108  It is very hard, but totally worth. I learned ...       12   \n",
       "109  According to Acharya, who invented the concept...       33   \n",
       "\n",
       "                               Tags  \n",
       "0    International History; Anarchy  \n",
       "1                         IR Theory  \n",
       "2                               SRA  \n",
       "3                    Microeconomics  \n",
       "4                           Contact  \n",
       "..                              ...  \n",
       "105                       Movie; IR  \n",
       "106                Exchange program  \n",
       "107                        Syllabus  \n",
       "108            Predictive Analytics  \n",
       "109                       IR Theory  \n",
       "\n",
       "[110 rows x 6 columns]"
      ]
     },
     "execution_count": 26,
     "metadata": {},
     "output_type": "execute_result"
    }
   ],
   "source": [
    "df.drop({\"Q User\", \"Q ID\", \"Answer user\"}, axis=1, inplace=True)\n",
    "df"
   ]
  },
  {
   "cell_type": "code",
   "execution_count": 28,
   "metadata": {},
   "outputs": [
    {
     "ename": "KeyError",
     "evalue": "'Text'",
     "output_type": "error",
     "traceback": [
      "\u001b[1;31m---------------------------------------------------------------------------\u001b[0m",
      "\u001b[1;31mKeyError\u001b[0m                                  Traceback (most recent call last)",
      "File \u001b[1;32m~\\AppData\\Local\\Packages\\PythonSoftwareFoundation.Python.3.9_qbz5n2kfra8p0\\LocalCache\\local-packages\\Python39\\site-packages\\pandas\\core\\indexes\\base.py:3621\u001b[0m, in \u001b[0;36mIndex.get_loc\u001b[1;34m(self, key, method, tolerance)\u001b[0m\n\u001b[0;32m   3620\u001b[0m \u001b[39mtry\u001b[39;00m:\n\u001b[1;32m-> 3621\u001b[0m     \u001b[39mreturn\u001b[39;00m \u001b[39mself\u001b[39;49m\u001b[39m.\u001b[39;49m_engine\u001b[39m.\u001b[39;49mget_loc(casted_key)\n\u001b[0;32m   3622\u001b[0m \u001b[39mexcept\u001b[39;00m \u001b[39mKeyError\u001b[39;00m \u001b[39mas\u001b[39;00m err:\n",
      "File \u001b[1;32m~\\AppData\\Local\\Packages\\PythonSoftwareFoundation.Python.3.9_qbz5n2kfra8p0\\LocalCache\\local-packages\\Python39\\site-packages\\pandas\\_libs\\index.pyx:136\u001b[0m, in \u001b[0;36mpandas._libs.index.IndexEngine.get_loc\u001b[1;34m()\u001b[0m\n",
      "File \u001b[1;32m~\\AppData\\Local\\Packages\\PythonSoftwareFoundation.Python.3.9_qbz5n2kfra8p0\\LocalCache\\local-packages\\Python39\\site-packages\\pandas\\_libs\\index.pyx:163\u001b[0m, in \u001b[0;36mpandas._libs.index.IndexEngine.get_loc\u001b[1;34m()\u001b[0m\n",
      "File \u001b[1;32mpandas\\_libs\\hashtable_class_helper.pxi:5198\u001b[0m, in \u001b[0;36mpandas._libs.hashtable.PyObjectHashTable.get_item\u001b[1;34m()\u001b[0m\n",
      "File \u001b[1;32mpandas\\_libs\\hashtable_class_helper.pxi:5206\u001b[0m, in \u001b[0;36mpandas._libs.hashtable.PyObjectHashTable.get_item\u001b[1;34m()\u001b[0m\n",
      "\u001b[1;31mKeyError\u001b[0m: 'Text'",
      "\nThe above exception was the direct cause of the following exception:\n",
      "\u001b[1;31mKeyError\u001b[0m                                  Traceback (most recent call last)",
      "\u001b[1;32mc:\\Users\\acdej\\Desktop\\entrega_tp_fgv_ds\\final_product.ipynb Célula: 21\u001b[0m in \u001b[0;36m<cell line: 1>\u001b[1;34m()\u001b[0m\n\u001b[1;32m----> <a href='vscode-notebook-cell:/c%3A/Users/acdej/Desktop/entrega_tp_fgv_ds/final_product.ipynb#X36sZmlsZQ%3D%3D?line=0'>1</a>\u001b[0m X \u001b[39m=\u001b[39m df[\u001b[39m'\u001b[39;49m\u001b[39mText\u001b[39;49m\u001b[39m'\u001b[39;49m]\n\u001b[0;32m      <a href='vscode-notebook-cell:/c%3A/Users/acdej/Desktop/entrega_tp_fgv_ds/final_product.ipynb#X36sZmlsZQ%3D%3D?line=1'>2</a>\u001b[0m y \u001b[39m=\u001b[39m df[\u001b[39m'\u001b[39m\u001b[39mCategory\u001b[39m\u001b[39m'\u001b[39m]\n\u001b[0;32m      <a href='vscode-notebook-cell:/c%3A/Users/acdej/Desktop/entrega_tp_fgv_ds/final_product.ipynb#X36sZmlsZQ%3D%3D?line=2'>3</a>\u001b[0m X_train, X_test, y_train, y_test \u001b[39m=\u001b[39m train_test_split(\n\u001b[0;32m      <a href='vscode-notebook-cell:/c%3A/Users/acdej/Desktop/entrega_tp_fgv_ds/final_product.ipynb#X36sZmlsZQ%3D%3D?line=3'>4</a>\u001b[0m     X, y, test_size\u001b[39m=\u001b[39m\u001b[39m0.33\u001b[39m, random_state\u001b[39m=\u001b[39m\u001b[39m42\u001b[39m)\n",
      "File \u001b[1;32m~\\AppData\\Local\\Packages\\PythonSoftwareFoundation.Python.3.9_qbz5n2kfra8p0\\LocalCache\\local-packages\\Python39\\site-packages\\pandas\\core\\frame.py:3505\u001b[0m, in \u001b[0;36mDataFrame.__getitem__\u001b[1;34m(self, key)\u001b[0m\n\u001b[0;32m   3503\u001b[0m \u001b[39mif\u001b[39;00m \u001b[39mself\u001b[39m\u001b[39m.\u001b[39mcolumns\u001b[39m.\u001b[39mnlevels \u001b[39m>\u001b[39m \u001b[39m1\u001b[39m:\n\u001b[0;32m   3504\u001b[0m     \u001b[39mreturn\u001b[39;00m \u001b[39mself\u001b[39m\u001b[39m.\u001b[39m_getitem_multilevel(key)\n\u001b[1;32m-> 3505\u001b[0m indexer \u001b[39m=\u001b[39m \u001b[39mself\u001b[39;49m\u001b[39m.\u001b[39;49mcolumns\u001b[39m.\u001b[39;49mget_loc(key)\n\u001b[0;32m   3506\u001b[0m \u001b[39mif\u001b[39;00m is_integer(indexer):\n\u001b[0;32m   3507\u001b[0m     indexer \u001b[39m=\u001b[39m [indexer]\n",
      "File \u001b[1;32m~\\AppData\\Local\\Packages\\PythonSoftwareFoundation.Python.3.9_qbz5n2kfra8p0\\LocalCache\\local-packages\\Python39\\site-packages\\pandas\\core\\indexes\\base.py:3623\u001b[0m, in \u001b[0;36mIndex.get_loc\u001b[1;34m(self, key, method, tolerance)\u001b[0m\n\u001b[0;32m   3621\u001b[0m     \u001b[39mreturn\u001b[39;00m \u001b[39mself\u001b[39m\u001b[39m.\u001b[39m_engine\u001b[39m.\u001b[39mget_loc(casted_key)\n\u001b[0;32m   3622\u001b[0m \u001b[39mexcept\u001b[39;00m \u001b[39mKeyError\u001b[39;00m \u001b[39mas\u001b[39;00m err:\n\u001b[1;32m-> 3623\u001b[0m     \u001b[39mraise\u001b[39;00m \u001b[39mKeyError\u001b[39;00m(key) \u001b[39mfrom\u001b[39;00m \u001b[39merr\u001b[39;00m\n\u001b[0;32m   3624\u001b[0m \u001b[39mexcept\u001b[39;00m \u001b[39mTypeError\u001b[39;00m:\n\u001b[0;32m   3625\u001b[0m     \u001b[39m# If we have a listlike key, _check_indexing_error will raise\u001b[39;00m\n\u001b[0;32m   3626\u001b[0m     \u001b[39m#  InvalidIndexError. Otherwise we fall through and re-raise\u001b[39;00m\n\u001b[0;32m   3627\u001b[0m     \u001b[39m#  the TypeError.\u001b[39;00m\n\u001b[0;32m   3628\u001b[0m     \u001b[39mself\u001b[39m\u001b[39m.\u001b[39m_check_indexing_error(key)\n",
      "\u001b[1;31mKeyError\u001b[0m: 'Text'"
     ]
    }
   ],
   "source": [
    "X = df['Text']\n",
    "y = df['Category']\n",
    "X_train, X_test, y_train, y_test = train_test_split(\n",
    "    X, y, test_size=0.33, random_state=42)"
   ]
  },
  {
   "cell_type": "code",
   "execution_count": 15,
   "metadata": {},
   "outputs": [
    {
     "name": "stderr",
     "output_type": "stream",
     "text": [
      "C:\\Users\\acdej\\AppData\\Local\\Packages\\PythonSoftwareFoundation.Python.3.9_qbz5n2kfra8p0\\LocalCache\\local-packages\\Python39\\site-packages\\bs4\\__init__.py:435: MarkupResemblesLocatorWarning: The input looks more like a filename than markup. You may want to open this file and pass the filehandle into Beautiful Soup.\n",
      "  warnings.warn(\n"
     ]
    }
   ],
   "source": [
    "df['Questions Body'] = df['Questions Body'].apply(lambda x: BeautifulSoup(x).get_text()) "
   ]
  },
  {
   "cell_type": "code",
   "execution_count": 16,
   "metadata": {},
   "outputs": [
    {
     "data": {
      "text/html": [
       "<div>\n",
       "<style scoped>\n",
       "    .dataframe tbody tr th:only-of-type {\n",
       "        vertical-align: middle;\n",
       "    }\n",
       "\n",
       "    .dataframe tbody tr th {\n",
       "        vertical-align: top;\n",
       "    }\n",
       "\n",
       "    .dataframe thead th {\n",
       "        text-align: right;\n",
       "    }\n",
       "</style>\n",
       "<table border=\"1\" class=\"dataframe\">\n",
       "  <thead>\n",
       "    <tr style=\"text-align: right;\">\n",
       "      <th></th>\n",
       "      <th>Title</th>\n",
       "      <th>Questions Body</th>\n",
       "      <th>Q Score</th>\n",
       "      <th>Answers Body</th>\n",
       "      <th>A Score</th>\n",
       "      <th>Tags</th>\n",
       "    </tr>\n",
       "  </thead>\n",
       "  <tbody>\n",
       "    <tr>\n",
       "      <th>0</th>\n",
       "      <td>What is anarchy?</td>\n",
       "      <td>I did not really got what anarchy is. Does som...</td>\n",
       "      <td>5</td>\n",
       "      <td>Anarchy is, firstly, a structure in which a sy...</td>\n",
       "      <td>2</td>\n",
       "      <td>International History; Anarchy</td>\n",
       "    </tr>\n",
       "    <tr>\n",
       "      <th>1</th>\n",
       "      <td>What is the difference between international a...</td>\n",
       "      <td>Answering the list 3 of IR Theory, I couldn't ...</td>\n",
       "      <td>4</td>\n",
       "      <td>Yes, you are</td>\n",
       "      <td>1</td>\n",
       "      <td>IR Theory</td>\n",
       "    </tr>\n",
       "    <tr>\n",
       "      <th>2</th>\n",
       "      <td>SRA number</td>\n",
       "      <td>What is the SRA phone number?</td>\n",
       "      <td>3</td>\n",
       "      <td>It's (11) 929292-92929</td>\n",
       "      <td>17</td>\n",
       "      <td>SRA</td>\n",
       "    </tr>\n",
       "    <tr>\n",
       "      <th>3</th>\n",
       "      <td>Get ready for microeconomics exam</td>\n",
       "      <td>I am having a microeconomics exam next week an...</td>\n",
       "      <td>6</td>\n",
       "      <td>First of all, review your mock exams and your ...</td>\n",
       "      <td>6</td>\n",
       "      <td>Microeconomics</td>\n",
       "    </tr>\n",
       "    <tr>\n",
       "      <th>4</th>\n",
       "      <td>Getting in touch with Oliver Stuenkel</td>\n",
       "      <td>Hi, folks! I must talk w/ Oliver asap, but I c...</td>\n",
       "      <td>1</td>\n",
       "      <td>You can access the list of OH links in the int...</td>\n",
       "      <td>5</td>\n",
       "      <td>Contact</td>\n",
       "    </tr>\n",
       "  </tbody>\n",
       "</table>\n",
       "</div>"
      ],
      "text/plain": [
       "                                               Title  \\\n",
       "0                                   What is anarchy?   \n",
       "1  What is the difference between international a...   \n",
       "2                                         SRA number   \n",
       "3                  Get ready for microeconomics exam   \n",
       "4              Getting in touch with Oliver Stuenkel   \n",
       "\n",
       "                                      Questions Body  Q Score  \\\n",
       "0  I did not really got what anarchy is. Does som...        5   \n",
       "1  Answering the list 3 of IR Theory, I couldn't ...        4   \n",
       "2                      What is the SRA phone number?        3   \n",
       "3  I am having a microeconomics exam next week an...        6   \n",
       "4  Hi, folks! I must talk w/ Oliver asap, but I c...        1   \n",
       "\n",
       "                                        Answers Body  A Score  \\\n",
       "0  Anarchy is, firstly, a structure in which a sy...        2   \n",
       "1                                       Yes, you are        1   \n",
       "2                             It's (11) 929292-92929       17   \n",
       "3  First of all, review your mock exams and your ...        6   \n",
       "4  You can access the list of OH links in the int...        5   \n",
       "\n",
       "                             Tags  \n",
       "0  International History; Anarchy  \n",
       "1                       IR Theory  \n",
       "2                             SRA  \n",
       "3                  Microeconomics  \n",
       "4                         Contact  "
      ]
     },
     "execution_count": 16,
     "metadata": {},
     "output_type": "execute_result"
    }
   ],
   "source": [
    "df.head(5)"
   ]
  },
  {
   "cell_type": "code",
   "execution_count": 17,
   "metadata": {},
   "outputs": [],
   "source": [
    "df['Questions Body']=df['Questions Body'].str.replace('<p>',' ')"
   ]
  },
  {
   "cell_type": "code",
   "execution_count": 18,
   "metadata": {},
   "outputs": [],
   "source": [
    "df['Questions Body']=df['Questions Body'].apply(lambda x : re.sub('(https?:\\/\\/)?([\\da-z\\.-]+)\\.([a-z\\.]{2,6})([\\/\\w \\.-]*)' , ' ' , x))"
   ]
  },
  {
   "cell_type": "code",
   "execution_count": 19,
   "metadata": {},
   "outputs": [],
   "source": [
    "df['Questions Body']=df['Questions Body'].str.replace('</p>',' ')\n",
    "df['Questions Body']=df['Questions Body'].str.replace('\\n',' ')\n",
    "df['Questions Body']=df['Questions Body'].str.replace('</a>',' ')"
   ]
  }
 ],
 "metadata": {
  "kernelspec": {
   "display_name": "Python 3.9.13 64-bit (microsoft store)",
   "language": "python",
   "name": "python3"
  },
  "language_info": {
   "codemirror_mode": {
    "name": "ipython",
    "version": 3
   },
   "file_extension": ".py",
   "mimetype": "text/x-python",
   "name": "python",
   "nbconvert_exporter": "python",
   "pygments_lexer": "ipython3",
   "version": "3.9.13"
  },
  "orig_nbformat": 4,
  "vscode": {
   "interpreter": {
    "hash": "abd2a26c332afb9e159c18343594f66cecf7ec1b6ecbcb014d72ceb6a0359027"
   }
  }
 },
 "nbformat": 4,
 "nbformat_minor": 2
}
